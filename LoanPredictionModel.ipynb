{
 "cells": [
  {
   "cell_type": "code",
   "execution_count": 43,
   "metadata": {},
   "outputs": [],
   "source": [
    "import pandas as pd\n",
    "import numpy as np\n",
    "from sklearn.model_selection import train_test_split\n",
    "import warnings\n",
    "warnings.filterwarnings('ignore')"
   ]
  },
  {
   "cell_type": "markdown",
   "metadata": {},
   "source": [
    "# Dataset"
   ]
  },
  {
   "cell_type": "code",
   "execution_count": 44,
   "metadata": {},
   "outputs": [],
   "source": [
    "train = pd.read_csv('train.csv')\n",
    "test = pd.read_csv('test.csv')"
   ]
  },
  {
   "cell_type": "code",
   "execution_count": 45,
   "metadata": {},
   "outputs": [],
   "source": [
    "ID_COL, TARGET_COL = 'Loan_ID', 'Loan_Status'\n",
    "features = [c for c in train.columns if c not in [ID_COL, TARGET_COL]]\n",
    "\n",
    "cat_cols = ['Gender', 'Married', 'Dependents', 'Education',\n",
    "       'Self_Employed','Credit_History', 'Property_Area']\n",
    "\n",
    "num_cols = [c for c in features if c not in cat_cols]\n",
    "\n",
    "df = pd.concat([train, test], axis=0).reset_index(drop = True)"
   ]
  },
  {
   "cell_type": "markdown",
   "metadata": {},
   "source": [
    "# Missing Value Imputations"
   ]
  },
  {
   "cell_type": "code",
   "execution_count": 46,
   "metadata": {},
   "outputs": [],
   "source": [
    "na_cols = [x for x in df.columns if df[x].isnull().sum()>0 and x not in TARGET_COL]\n",
    "\n",
    "missing_df = df[na_cols]\n",
    "num_missing_cols = [x for x in na_cols if x in num_cols]\n",
    "\n",
    "def nan_imputer(df,variable):\n",
    "\n",
    "    df[variable+\"_random\"]=df[variable]\n",
    "    random_sample=df[variable].dropna().sample(df[variable].isnull().sum(),random_state=0)\n",
    "    random_sample.index=df[df[variable].isnull()].index\n",
    "    df.loc[df[variable].isnull(),variable+'_random']=random_sample\n",
    "\n",
    "for col in num_missing_cols:\n",
    "    nan_imputer(missing_df,col)\n",
    "\n",
    "df['LoanAmount'] = missing_df['LoanAmount_random']\n",
    "df['Loan_Amount_Term'] = missing_df['Loan_Amount_Term_random']\n",
    "\n",
    "df['Gender'].fillna(missing_df['Gender'].mode()[0],inplace=True)\n",
    "df['Married'].fillna(missing_df['Married'].mode()[0],inplace=True)\n",
    "df['Dependents'].fillna(missing_df['Dependents'].mode()[0],inplace=True)\n",
    "df['Self_Employed'].fillna(missing_df['Self_Employed'].mode()[0],inplace=True)\n",
    "df['Credit_History'].fillna(missing_df['Credit_History'].mode()[0],inplace=True)"
   ]
  },
  {
   "cell_type": "markdown",
   "metadata": {},
   "source": [
    "# Categorical Encoding"
   ]
  },
  {
   "cell_type": "code",
   "execution_count": 47,
   "metadata": {},
   "outputs": [],
   "source": [
    "\n",
    "df['Gender'] = df['Gender'].map({'Female':0,'Male':1})\n",
    "df['Married'] = df['Married'].map({'No':0, 'Yes':1})\n",
    "df['Education'] = df['Education'].map({'Not Graduate':0, 'Graduate':1})\n",
    "df['Self_Employed'] = df['Self_Employed'].map({'No':0, 'Yes':1})\n",
    "df['Loan_Status'] = df['Loan_Status'].map({'N':0, 'Y':1})\n",
    "\n",
    "df['Dependents'] = df['Dependents'].str.rstrip('+')\n",
    "\n",
    "df['Property_Area'] = df['Property_Area'].map({'Rural':1,'Semiurban':2,'Urban':3})"
   ]
  },
  {
   "cell_type": "markdown",
   "metadata": {},
   "source": [
    "# Feature Engineering"
   ]
  },
  {
   "cell_type": "code",
   "execution_count": 48,
   "metadata": {},
   "outputs": [],
   "source": [
    "def emi_calculator(p,  r,  t): \n",
    "  \n",
    "    r = r / (12 * 100)\n",
    "    emi = (p * r * pow(1 + r, t)) / (pow(1 + r, t) - 1); \n",
    "  \n",
    "    return emi\n",
    " \n",
    "\n",
    "df['Total_Income'] = df['ApplicantIncome'] + df['CoapplicantIncome']\n",
    "\n",
    "df['Loan_Amount_Term'] = df['Loan_Amount_Term']/12\n",
    "df['EMI'] = df.apply(lambda emi : emi_calculator(emi['LoanAmount']*1000,12,emi['Loan_Amount_Term']),axis=1)\n",
    "\n",
    "df['EMI_Income_Ratio'] = df['EMI'] / df['Total_Income']"
   ]
  },
  {
   "cell_type": "markdown",
   "metadata": {},
   "source": [
    "# Feature Selection"
   ]
  },
  {
   "cell_type": "code",
   "execution_count": 49,
   "metadata": {},
   "outputs": [],
   "source": [
    "from sklearn.feature_selection import SelectKBest, chi2\n",
    "from sklearn.feature_selection import f_classif\n",
    "from sklearn.feature_selection import SelectFpr"
   ]
  },
  {
   "cell_type": "markdown",
   "metadata": {},
   "source": [
    "## Split the processed dataset back into train and test datasets"
   ]
  },
  {
   "cell_type": "code",
   "execution_count": 50,
   "metadata": {},
   "outputs": [],
   "source": [
    "train_proc, test_proc = df[:train.shape[0]], df[train.shape[0]:].reset_index(drop = True)\n",
    "features = [c for c in train_proc.columns if c not in [ID_COL, TARGET_COL]]"
   ]
  },
  {
   "cell_type": "code",
   "execution_count": 52,
   "metadata": {},
   "outputs": [],
   "source": [
    "X = train_proc[features]\n",
    "y = train_proc[TARGET_COL]"
   ]
  },
  {
   "cell_type": "markdown",
   "metadata": {},
   "source": [
    "### chi2"
   ]
  },
  {
   "cell_type": "code",
   "execution_count": 53,
   "metadata": {},
   "outputs": [],
   "source": [
    "KBest = SelectKBest(chi2, k=14)\n",
    "result = KBest.fit_transform(X, y)\n",
    "\n",
    "chi2_selection = pd.DataFrame(data=features,columns=[\"Feature\"])\n",
    "chi2_selection['Score'] = KBest.scores_\n",
    "chi2_selection.sort_values(by='Score',ascending=False,inplace=True)\n",
    "chi2_selection.reset_index(inplace=True)"
   ]
  },
  {
   "cell_type": "markdown",
   "metadata": {},
   "source": [
    "### f_classif"
   ]
  },
  {
   "cell_type": "code",
   "execution_count": 54,
   "metadata": {},
   "outputs": [],
   "source": [
    "KBest = SelectKBest(f_classif, k=14)\n",
    "result = KBest.fit_transform(X, y)\n",
    "\n",
    "f_classif_selection = pd.DataFrame(data=features,columns=[\"Feature\"])\n",
    "f_classif_selection['Score'] = KBest.scores_\n",
    "f_classif_selection.sort_values(by='Score',ascending=False,inplace=True)\n",
    "f_classif_selection.reset_index(inplace=True)"
   ]
  },
  {
   "cell_type": "markdown",
   "metadata": {},
   "source": [
    "### SelectFpr"
   ]
  },
  {
   "cell_type": "code",
   "execution_count": 55,
   "metadata": {},
   "outputs": [],
   "source": [
    "KBest = SelectFpr(f_classif, alpha=0.05)\n",
    "result = KBest.fit_transform(X, y)\n",
    "\n",
    "fpr_selection = pd.DataFrame(data=features,columns=[\"Feature\"])\n",
    "fpr_selection['Score'] = KBest.scores_\n",
    "fpr_selection.sort_values(by='Score',ascending=False,inplace=True)\n",
    "fpr_selection.reset_index(inplace=True)"
   ]
  },
  {
   "cell_type": "code",
   "execution_count": 56,
   "metadata": {},
   "outputs": [],
   "source": [
    "features = list( set(fpr_selection['Feature'].loc[:10]).intersection(set(chi2_selection['Feature'].loc[:10])))"
   ]
  },
  {
   "cell_type": "markdown",
   "metadata": {},
   "source": [
    "# Split the train set into train and validation sets."
   ]
  },
  {
   "cell_type": "code",
   "execution_count": 57,
   "metadata": {},
   "outputs": [],
   "source": [
    "trn, val = train_test_split(train_proc, test_size=0.2, random_state = 1, stratify = train_proc[TARGET_COL])\n",
    "\n",
    "###### Input to our model will be the features\n",
    "X_trn, X_val = trn[features], val[features]\n",
    "\n",
    "###### Output of our model will be the TARGET_COL\n",
    "y_trn, y_val = trn[TARGET_COL], val[TARGET_COL]\n",
    "\n",
    "##### Features for the test data that we will be predicting\n",
    "X_test = test_proc[features]"
   ]
  },
  {
   "cell_type": "markdown",
   "metadata": {},
   "source": [
    "## Scaling"
   ]
  },
  {
   "cell_type": "code",
   "execution_count": 58,
   "metadata": {},
   "outputs": [],
   "source": [
    "from sklearn.preprocessing import StandardScaler\n",
    "\n",
    "scaler = StandardScaler()\n",
    "_ = scaler.fit(X_trn)\n",
    "\n",
    "X_trn = scaler.transform(X_trn)\n",
    "X_val = scaler.transform(X_val)\n",
    "X_test = scaler.transform(X_test)"
   ]
  },
  {
   "cell_type": "markdown",
   "metadata": {},
   "source": [
    "# Models"
   ]
  },
  {
   "cell_type": "code",
   "execution_count": 60,
   "metadata": {},
   "outputs": [],
   "source": [
    "from sklearn.linear_model import LogisticRegression\n",
    "from sklearn.metrics import *"
   ]
  },
  {
   "cell_type": "markdown",
   "metadata": {},
   "source": [
    "### Logistic"
   ]
  },
  {
   "cell_type": "code",
   "execution_count": 61,
   "metadata": {},
   "outputs": [
    {
     "data": {
      "text/plain": [
       "0.9042553191489361"
      ]
     },
     "execution_count": 61,
     "metadata": {},
     "output_type": "execute_result"
    }
   ],
   "source": [
    "lr = LogisticRegression(random_state = 1)\n",
    "_ = lr.fit(X_trn, y_trn)\n",
    "\n",
    "preds_val = lr.predict(X_val)\n",
    "\n",
    "f1_score(y_val, preds_val)"
   ]
  },
  {
   "cell_type": "code",
   "execution_count": 62,
   "metadata": {},
   "outputs": [
    {
     "name": "stdout",
     "output_type": "stream",
     "text": [
      "[[20 18]\n",
      " [ 0 85]]\n",
      "              precision    recall  f1-score   support\n",
      "\n",
      "         0.0       1.00      0.53      0.69        38\n",
      "         1.0       0.83      1.00      0.90        85\n",
      "\n",
      "    accuracy                           0.85       123\n",
      "   macro avg       0.91      0.76      0.80       123\n",
      "weighted avg       0.88      0.85      0.84       123\n",
      "\n"
     ]
    }
   ],
   "source": [
    "print(confusion_matrix(y_val, preds_val))\n",
    "print(classification_report(y_val, preds_val))"
   ]
  },
  {
   "cell_type": "markdown",
   "metadata": {},
   "source": [
    "### NaiveBaise"
   ]
  },
  {
   "cell_type": "code",
   "execution_count": 64,
   "metadata": {},
   "outputs": [
    {
     "name": "stdout",
     "output_type": "stream",
     "text": [
      "0.9042553191489361\n",
      "[[20 18]\n",
      " [ 0 85]]\n",
      "              precision    recall  f1-score   support\n",
      "\n",
      "         0.0       1.00      0.53      0.69        38\n",
      "         1.0       0.83      1.00      0.90        85\n",
      "\n",
      "    accuracy                           0.85       123\n",
      "   macro avg       0.91      0.76      0.80       123\n",
      "weighted avg       0.88      0.85      0.84       123\n",
      "\n"
     ]
    }
   ],
   "source": [
    "from sklearn.naive_bayes import GaussianNB\n",
    "nb = GaussianNB()\n",
    "nb.fit(X_trn, y_trn)\n",
    "preds_val = lr.predict(X_val)\n",
    "\n",
    "print(f1_score(y_val, preds_val))\n",
    "print(confusion_matrix(y_val, preds_val))\n",
    "print(classification_report(y_val, preds_val))"
   ]
  },
  {
   "cell_type": "markdown",
   "metadata": {},
   "source": [
    "## RandomForest"
   ]
  },
  {
   "cell_type": "code",
   "execution_count": 65,
   "metadata": {},
   "outputs": [],
   "source": [
    "from sklearn.ensemble import RandomForestClassifier"
   ]
  },
  {
   "cell_type": "code",
   "execution_count": 66,
   "metadata": {},
   "outputs": [
    {
     "name": "stdout",
     "output_type": "stream",
     "text": [
      "0.8961748633879782\n",
      "[[22 16]\n",
      " [ 3 82]]\n",
      "              precision    recall  f1-score   support\n",
      "\n",
      "         0.0       0.88      0.58      0.70        38\n",
      "         1.0       0.84      0.96      0.90        85\n",
      "\n",
      "    accuracy                           0.85       123\n",
      "   macro avg       0.86      0.77      0.80       123\n",
      "weighted avg       0.85      0.85      0.84       123\n",
      "\n"
     ]
    }
   ],
   "source": [
    "rf = RandomForestClassifier()\n",
    "rf.fit(X_trn, y_trn)\n",
    "preds_val = rf.predict(X_val)\n",
    "\n",
    "print(f1_score(y_val, preds_val))\n",
    "print(confusion_matrix(y_val, preds_val))\n",
    "print(classification_report(y_val, preds_val))"
   ]
  },
  {
   "cell_type": "markdown",
   "metadata": {},
   "source": [
    "### RandomizedSearchCV"
   ]
  },
  {
   "cell_type": "code",
   "execution_count": 68,
   "metadata": {},
   "outputs": [],
   "source": [
    "from sklearn.model_selection import RandomizedSearchCV\n",
    "\n",
    "\n",
    "n_estimators = [int(x) for x in np.linspace(start = 200, stop = 2000, num = 10)]\n",
    "max_features = ['auto', 'sqrt']\n",
    "max_depth = [int(x) for x in np.linspace(10, 110, num = 11)]\n",
    "max_depth.append(None)\n",
    "min_samples_split = [2, 5, 10]\n",
    "min_samples_leaf = [1, 2, 4]\n",
    "bootstrap = [True, False]\n",
    "\n",
    "\n",
    "random_grid = {'n_estimators': n_estimators,\n",
    "               'max_features': max_features,\n",
    "               'max_depth': max_depth,\n",
    "               'min_samples_split': min_samples_split,\n",
    "               'min_samples_leaf': min_samples_leaf,\n",
    "               'bootstrap': bootstrap}\n"
   ]
  },
  {
   "cell_type": "code",
   "execution_count": 69,
   "metadata": {},
   "outputs": [
    {
     "name": "stdout",
     "output_type": "stream",
     "text": [
      "Fitting 3 folds for each of 100 candidates, totalling 300 fits\n"
     ]
    },
    {
     "name": "stderr",
     "output_type": "stream",
     "text": [
      "[Parallel(n_jobs=-1)]: Using backend LokyBackend with 4 concurrent workers.\n",
      "[Parallel(n_jobs=-1)]: Done  24 tasks      | elapsed:   38.0s\n",
      "[Parallel(n_jobs=-1)]: Done 120 tasks      | elapsed:  2.9min\n",
      "[Parallel(n_jobs=-1)]: Done 280 tasks      | elapsed:  6.7min\n",
      "[Parallel(n_jobs=-1)]: Done 300 out of 300 | elapsed:  7.1min finished\n"
     ]
    },
    {
     "data": {
      "text/plain": [
       "RandomizedSearchCV(cv=3, estimator=RandomForestClassifier(), n_iter=100,\n",
       "                   n_jobs=-1,\n",
       "                   param_distributions={'bootstrap': [True, False],\n",
       "                                        'max_depth': [10, 20, 30, 40, 50, 60,\n",
       "                                                      70, 80, 90, 100, 110,\n",
       "                                                      None],\n",
       "                                        'max_features': ['auto', 'sqrt'],\n",
       "                                        'min_samples_leaf': [1, 2, 4],\n",
       "                                        'min_samples_split': [2, 5, 10],\n",
       "                                        'n_estimators': [200, 400, 600, 800,\n",
       "                                                         1000, 1200, 1400, 1600,\n",
       "                                                         1800, 2000]},\n",
       "                   random_state=42, verbose=3)"
      ]
     },
     "execution_count": 69,
     "metadata": {},
     "output_type": "execute_result"
    }
   ],
   "source": [
    "clf = RandomForestClassifier()\n",
    "rf_random = RandomizedSearchCV(estimator = clf, param_distributions = random_grid, n_iter = 100, cv = 3, verbose=3, random_state=42, n_jobs = -1)\n",
    "rf_random.fit(X_trn, y_trn)"
   ]
  },
  {
   "cell_type": "code",
   "execution_count": 70,
   "metadata": {},
   "outputs": [
    {
     "data": {
      "text/plain": [
       "{'n_estimators': 600,\n",
       " 'min_samples_split': 10,\n",
       " 'min_samples_leaf': 2,\n",
       " 'max_features': 'sqrt',\n",
       " 'max_depth': 60,\n",
       " 'bootstrap': True}"
      ]
     },
     "execution_count": 70,
     "metadata": {},
     "output_type": "execute_result"
    }
   ],
   "source": [
    "rf_random.best_params_"
   ]
  },
  {
   "cell_type": "markdown",
   "metadata": {},
   "source": [
    "### RSTuned RandomForest"
   ]
  },
  {
   "cell_type": "code",
   "execution_count": 71,
   "metadata": {},
   "outputs": [
    {
     "name": "stdout",
     "output_type": "stream",
     "text": [
      "0.9081081081081082\n",
      "[[22 16]\n",
      " [ 1 84]]\n",
      "              precision    recall  f1-score   support\n",
      "\n",
      "         0.0       0.96      0.58      0.72        38\n",
      "         1.0       0.84      0.99      0.91        85\n",
      "\n",
      "    accuracy                           0.86       123\n",
      "   macro avg       0.90      0.78      0.81       123\n",
      "weighted avg       0.88      0.86      0.85       123\n",
      "\n"
     ]
    }
   ],
   "source": [
    "rf_tuned = rf_random.best_estimator_\n",
    "rf_tuned.fit(X_trn, y_trn)\n",
    "preds_val = rf_tuned.predict(X_val)\n",
    "\n",
    "print(f1_score(y_val, preds_val))\n",
    "print(confusion_matrix(y_val, preds_val))\n",
    "print(classification_report(y_val, preds_val))"
   ]
  },
  {
   "cell_type": "markdown",
   "metadata": {},
   "source": [
    "### GridSearchCV"
   ]
  },
  {
   "cell_type": "code",
   "execution_count": 72,
   "metadata": {},
   "outputs": [
    {
     "data": {
      "text/plain": [
       "{'n_estimators': 600,\n",
       " 'min_samples_split': 10,\n",
       " 'min_samples_leaf': 2,\n",
       " 'max_features': 'sqrt',\n",
       " 'max_depth': 60,\n",
       " 'bootstrap': True}"
      ]
     },
     "execution_count": 72,
     "metadata": {},
     "output_type": "execute_result"
    }
   ],
   "source": [
    "rf_random.best_params_"
   ]
  },
  {
   "cell_type": "code",
   "execution_count": 73,
   "metadata": {},
   "outputs": [],
   "source": [
    "from sklearn.model_selection import GridSearchCV\n",
    "\n",
    "param_grid = {\n",
    "    'bootstrap': [True],\n",
    "    'max_depth': [60, 70, 80, 90,50],\n",
    "    'max_features': ['sqrt'],\n",
    "    'min_samples_leaf': [1, 2, 3],\n",
    "    'min_samples_split': [8, 10, 12],\n",
    "    'n_estimators': [300, 600, 900, 1200]\n",
    "}\n",
    "\n",
    "clf = RandomForestClassifier()\n",
    "grid_search = GridSearchCV(estimator = clf, param_grid = param_grid, \n",
    "                          cv = 3, n_jobs = -1, verbose = 3)"
   ]
  },
  {
   "cell_type": "code",
   "execution_count": 74,
   "metadata": {},
   "outputs": [
    {
     "name": "stdout",
     "output_type": "stream",
     "text": [
      "Fitting 3 folds for each of 180 candidates, totalling 540 fits\n"
     ]
    },
    {
     "name": "stderr",
     "output_type": "stream",
     "text": [
      "[Parallel(n_jobs=-1)]: Using backend LokyBackend with 4 concurrent workers.\n",
      "[Parallel(n_jobs=-1)]: Done  24 tasks      | elapsed:   26.2s\n",
      "[Parallel(n_jobs=-1)]: Done 120 tasks      | elapsed:  2.0min\n",
      "[Parallel(n_jobs=-1)]: Done 280 tasks      | elapsed:  4.7min\n",
      "[Parallel(n_jobs=-1)]: Done 504 tasks      | elapsed:  8.4min\n",
      "[Parallel(n_jobs=-1)]: Done 540 out of 540 | elapsed:  9.0min finished\n"
     ]
    },
    {
     "data": {
      "text/plain": [
       "GridSearchCV(cv=3, estimator=RandomForestClassifier(), n_jobs=-1,\n",
       "             param_grid={'bootstrap': [True], 'max_depth': [60, 70, 80, 90, 50],\n",
       "                         'max_features': ['sqrt'],\n",
       "                         'min_samples_leaf': [1, 2, 3],\n",
       "                         'min_samples_split': [8, 10, 12],\n",
       "                         'n_estimators': [300, 600, 900, 1200]},\n",
       "             verbose=3)"
      ]
     },
     "execution_count": 74,
     "metadata": {},
     "output_type": "execute_result"
    }
   ],
   "source": [
    "grid_search.fit(X_trn, y_trn)"
   ]
  },
  {
   "cell_type": "code",
   "execution_count": 75,
   "metadata": {},
   "outputs": [
    {
     "name": "stdout",
     "output_type": "stream",
     "text": [
      "0.9130434782608696\n",
      "[[23 15]\n",
      " [ 1 84]]\n",
      "              precision    recall  f1-score   support\n",
      "\n",
      "         0.0       0.96      0.61      0.74        38\n",
      "         1.0       0.85      0.99      0.91        85\n",
      "\n",
      "    accuracy                           0.87       123\n",
      "   macro avg       0.90      0.80      0.83       123\n",
      "weighted avg       0.88      0.87      0.86       123\n",
      "\n"
     ]
    }
   ],
   "source": [
    "rf_tuned_grid = grid_search.best_estimator_\n",
    "rf_tuned_grid.fit(X_trn, y_trn)\n",
    "preds_val = rf_tuned_grid.predict(X_val)\n",
    "\n",
    "print(f1_score(y_val, preds_val))\n",
    "print(confusion_matrix(y_val, preds_val))\n",
    "print(classification_report(y_val, preds_val))"
   ]
  },
  {
   "cell_type": "code",
   "execution_count": 76,
   "metadata": {},
   "outputs": [
    {
     "data": {
      "text/plain": [
       "{'bootstrap': True,\n",
       " 'max_depth': 50,\n",
       " 'max_features': 'sqrt',\n",
       " 'min_samples_leaf': 1,\n",
       " 'min_samples_split': 10,\n",
       " 'n_estimators': 600}"
      ]
     },
     "execution_count": 76,
     "metadata": {},
     "output_type": "execute_result"
    }
   ],
   "source": [
    "grid_search.best_params_"
   ]
  },
  {
   "cell_type": "markdown",
   "metadata": {},
   "source": [
    "#### Submission"
   ]
  },
  {
   "cell_type": "code",
   "execution_count": 78,
   "metadata": {},
   "outputs": [],
   "source": [
    "y_pred = rf_tuned_grid.predict(X_test)\n",
    "out = test_proc\n",
    "out['Loan_Status'] = y_pred\n",
    "df_final = out.drop(['Gender', 'Married', 'Dependents', 'Education',\n",
    "       'Self_Employed', 'ApplicantIncome', 'CoapplicantIncome', 'LoanAmount',\n",
    "       'Loan_Amount_Term', 'Credit_History', 'Property_Area',\n",
    "       'Total_Income', 'EMI', 'EMI_Income_Ratio'],axis=1)\n",
    "\n",
    "df_final['Loan_Status'] = np.where(df_final['Loan_Status']==1,'Y','N')\n",
    "df_final.to_csv(\"rf_tuned_pred_grid_3.csv\",index=False)"
   ]
  },
  {
   "cell_type": "markdown",
   "metadata": {},
   "source": [
    "## XGBoost"
   ]
  },
  {
   "cell_type": "code",
   "execution_count": 79,
   "metadata": {},
   "outputs": [],
   "source": [
    "from xgboost import XGBClassifier"
   ]
  },
  {
   "cell_type": "code",
   "execution_count": 80,
   "metadata": {},
   "outputs": [
    {
     "name": "stdout",
     "output_type": "stream",
     "text": [
      "0.8926553672316385\n",
      "[[25 13]\n",
      " [ 6 79]]\n",
      "              precision    recall  f1-score   support\n",
      "\n",
      "         0.0       0.81      0.66      0.72        38\n",
      "         1.0       0.86      0.93      0.89        85\n",
      "\n",
      "    accuracy                           0.85       123\n",
      "   macro avg       0.83      0.79      0.81       123\n",
      "weighted avg       0.84      0.85      0.84       123\n",
      "\n"
     ]
    }
   ],
   "source": [
    "xgb = XGBClassifier()\n",
    "xgb.fit(X_trn, y_trn)\n",
    "preds_val = xgb.predict(X_val)\n",
    "\n",
    "print(f1_score(y_val, preds_val))\n",
    "print(confusion_matrix(y_val, preds_val))\n",
    "print(classification_report(y_val, preds_val))"
   ]
  },
  {
   "cell_type": "markdown",
   "metadata": {},
   "source": [
    "#### Submission"
   ]
  },
  {
   "cell_type": "code",
   "execution_count": 81,
   "metadata": {},
   "outputs": [],
   "source": [
    "y_pred = xgb.predict(X_test)\n",
    "out = test_proc\n",
    "out['Loan_Status'] = y_pred\n",
    "df_final = out.drop(['Gender', 'Married', 'Dependents', 'Education',\n",
    "       'Self_Employed', 'ApplicantIncome', 'CoapplicantIncome', 'LoanAmount',\n",
    "       'Loan_Amount_Term', 'Credit_History', 'Property_Area',\n",
    "       'Total_Income', 'EMI', 'EMI_Income_Ratio'],axis=1)\n",
    "\n",
    "df_final['Loan_Status'] = np.where(df_final['Loan_Status']==1,'Y','N')\n",
    "df_final.to_csv(\"xgb_norm_pred.csv\",index=False)"
   ]
  },
  {
   "cell_type": "code",
   "execution_count": null,
   "metadata": {},
   "outputs": [],
   "source": []
  },
  {
   "cell_type": "code",
   "execution_count": 84,
   "metadata": {},
   "outputs": [
    {
     "name": "stdout",
     "output_type": "stream",
     "text": [
      "Accuracy: 84.55%\n"
     ]
    },
    {
     "data": {
      "image/png": "[encoded data removed]",
      "text/plain": [
       "<Figure size 864x864 with 1 Axes>"
      ]
     },
     "metadata": {},
     "output_type": "display_data"
    },
    {
     "data": {
      "image/png": "[encoded data removed]",
      "text/plain": [
       "<Figure size 864x864 with 1 Axes>"
      ]
     },
     "metadata": {},
     "output_type": "display_data"
    }
   ],
   "source": [
    "from numpy import loadtxt\n",
    "from xgboost import XGBClassifier\n",
    "from sklearn.model_selection import train_test_split\n",
    "from sklearn.metrics import accuracy_score\n",
    "from matplotlib import pyplot\n",
    "import matplotlib.pyplot as plt    \n",
    "\n",
    "plt.style.use('ggplot')    \n",
    "\n",
    "# fit model no training data\n",
    "model = XGBClassifier()\n",
    "eval_set = [(X_trn, y_trn), (X_val, y_val)]\n",
    "model.fit(X_trn, y_trn, eval_metric=[\"error\", \"logloss\"], eval_set=eval_set, verbose=False)\n",
    "\n",
    "# make predictions for test data\n",
    "y_pred = model.predict(X_val)\n",
    "predictions = [round(value) for value in y_pred]\n",
    "\n",
    "# evaluate predictions\n",
    "accuracy = accuracy_score(y_val, predictions)\n",
    "print(\"Accuracy: %.2f%%\" % (accuracy * 100.0))\n",
    "\n",
    "# retrieve performance metrics\n",
    "results = model.evals_result()\n",
    "epochs = len(results['validation_0']['error'])\n",
    "x_axis = range(0, epochs)\n",
    "\n",
    "# plot log loss\n",
    "fig, ax = pyplot.subplots(figsize=(12,12))\n",
    "ax.plot(x_axis, results['validation_0']['logloss'], label='Train')\n",
    "ax.plot(x_axis, results['validation_1']['logloss'], label='Test')\n",
    "ax.legend()\n",
    "\n",
    "pyplot.ylabel('Log Loss')\n",
    "pyplot.title('XGBoost Log Loss')\n",
    "pyplot.show()\n",
    "\n",
    "\n",
    "# plot classification error\n",
    "fig, ax = pyplot.subplots(figsize=(12,12))\n",
    "ax.plot(x_axis, results['validation_0']['error'], label='Train')\n",
    "ax.plot(x_axis, results['validation_1']['error'], label='Test')\n",
    "ax.legend()\n",
    "\n",
    "pyplot.ylabel('Classification Error')\n",
    "pyplot.title('XGBoost Classification Error')\n",
    "pyplot.show()"
   ]
  },
  {
   "cell_type": "code",
   "execution_count": null,
   "metadata": {},
   "outputs": [],
   "source": []
  }
 ],
 "metadata": {
  "kernelspec": {
   "display_name": "Python [conda env:ml] *",
   "language": "python",
   "name": "conda-env-ml-py"
  },
  "language_info": {
   "codemirror_mode": {
    "name": "ipython",
    "version": 3
   },
   "file_extension": ".py",
   "mimetype": "text/x-python",
   "name": "python",
   "nbconvert_exporter": "python",
   "pygments_lexer": "ipython3",
   "version": "3.8.5"
  }
 },
 "nbformat": 4,
 "nbformat_minor": 4
}
